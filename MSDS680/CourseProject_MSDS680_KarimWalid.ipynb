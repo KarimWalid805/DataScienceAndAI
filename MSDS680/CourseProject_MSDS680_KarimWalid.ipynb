{
  "nbformat": 4,
  "nbformat_minor": 0,
  "metadata": {
    "colab": {
      "provenance": [],
      "gpuType": "T4"
    },
    "kernelspec": {
      "name": "python3",
      "display_name": "Python 3"
    },
    "language_info": {
      "name": "python"
    },
    "accelerator": "GPU"
  },
  "cells": [
    {
      "cell_type": "markdown",
      "source": [
        "# **Machine Learning (MSDS680) Course Project**\n",
        "This projects aims to find the best performing model that can train on the EMNIST letters data.\n",
        "\n",
        "\n",
        "---\n",
        "\n",
        "\n",
        "*   Author: Karim Walid\n",
        "*   Date: 30/03/2025\n",
        "*   Instructor: Pantelis Kaplanoglou\n",
        "\n",
        "\n",
        "---\n",
        "\n"
      ],
      "metadata": {
        "id": "YTpVkDaO4bgQ"
      }
    },
    {
      "cell_type": "markdown",
      "source": [
        "# **Option 01**"
      ],
      "metadata": {
        "id": "HL64FvK34tMo"
      }
    },
    {
      "cell_type": "code",
      "source": [
        "# Install the Rapid Deep Neural Networks library\n",
        "!pip install radnn -q\n",
        "!pip list | grep \"radnn\"\n",
        "\n",
        "from radnn.system.hosts import ColabHost\n",
        "\n",
        "# Mount to the project folder that is under the lesson folder\n",
        "ColabHost().detect_workspace([\"CS345\", \"MSDS680\"]).change_to_project_dir(\"MLData\")"
      ],
      "metadata": {
        "colab": {
          "base_uri": "https://localhost:8080/"
        },
        "id": "Pepd9fW_xTj2",
        "outputId": "441dcd33-776f-4c6b-cef9-58ea3ff90735"
      },
      "execution_count": 35,
      "outputs": [
        {
          "output_type": "stream",
          "name": "stdout",
          "text": [
            "radnn                              0.0.8\n",
            "Drive already mounted at /content/gdrive; to attempt to forcibly remount, call drive.mount(\"/content/gdrive\", force_remount=True).\n",
            "Current directory is:  /content/gdrive/My Drive/Colab Notebooks/MSDS680/MLData\n"
          ]
        },
        {
          "output_type": "execute_result",
          "data": {
            "text/plain": [
              "Host: (colab)-172.28.0.12"
            ]
          },
          "metadata": {},
          "execution_count": 35
        }
      ]
    },
    {
      "cell_type": "code",
      "source": [
        "import os\n",
        "os.environ[\"TF_USE_LEGACY_KERAS\"]=\"1\"   # Use Keras 2.x. We set this before the first import of tensorflow\n",
        "\n",
        "import csv\n",
        "import numpy as np\n",
        "import matplotlib.pyplot as plt\n",
        "import tensorflow as tf\n",
        "from tensorflow import keras\n",
        "from radnn import mlsys, FileSystem\n",
        "from radnn.experiment import MLExperimentConfig\n",
        "#from mllib.visualization import CPlot, CPlotTrainingLogs, CAutoMultiImagePlot\n",
        "oFileSys = FileSystem(config_folder=\"MLConfig\", model_folder=\"MLModels\", dataset_folder=\"MLData\")\n",
        "# __________ | Settings | __________\n",
        "IS_PLOTING_DATA             = True\n",
        "IS_RETRAINING               = False\n",
        "RANDOM_SEED             = 2022\n",
        "mlsys.filesys = FileSystem(\"MLConfig\", model_folder=\"MLModels\", dataset_folder=\"MLData\")"
      ],
      "metadata": {
        "id": "4SCRH650xXi1"
      },
      "execution_count": 36,
      "outputs": []
    },
    {
      "cell_type": "code",
      "source": [
        "import numpy as np\n",
        "import gzip\n",
        "os.getcwd()"
      ],
      "metadata": {
        "colab": {
          "base_uri": "https://localhost:8080/",
          "height": 35
        },
        "id": "DB6QaZBZqrSB",
        "outputId": "e4e1cbb2-a6f2-4fb5-8b9d-3fd00092bc83"
      },
      "execution_count": 37,
      "outputs": [
        {
          "output_type": "execute_result",
          "data": {
            "text/plain": [
              "'/content/gdrive/My Drive/Colab Notebooks/MSDS680/MLData'"
            ],
            "application/vnd.google.colaboratory.intrinsic+json": {
              "type": "string"
            }
          },
          "metadata": {},
          "execution_count": 37
        }
      ]
    },
    {
      "cell_type": "code",
      "source": [],
      "metadata": {
        "id": "caYoWs_GwQcf"
      },
      "execution_count": 37,
      "outputs": []
    },
    {
      "cell_type": "code",
      "source": [
        "import numpy as np\n",
        "from enum import Enum\n",
        "\n",
        "\n",
        "# =========================================================================================================================\n",
        "class SetType(Enum):\n",
        "  TRAINING_SET      = 1\n",
        "  VALIDATION_SET    = 2\n",
        "  UNKNOWN_TEST_SET  = 3\n",
        "# =========================================================================================================================\n",
        "\n",
        "\n",
        "# =========================================================================================================================\n",
        "class CDataSet(object):\n",
        "  # --------------------------------------------------------------------------------------\n",
        "  # Constructor\n",
        "  def __init__(self):\n",
        "    # ................................................................\n",
        "    # // Fields \\\\\n",
        "    self.Samples            = None\n",
        "    self.Labels             = None\n",
        "    self.SampleCount        = 0\n",
        "    self.FeatureCount       = None\n",
        "    self.ClassCount         = None\n",
        "\n",
        "    self.TSSamples      = None\n",
        "    self.TSLabels       = None\n",
        "    self.TSSampleCount  = 0\n",
        "\n",
        "    self.VSSamples      = None\n",
        "    self.VSLabels       = None\n",
        "    self.VSSampleCount  = 0\n",
        "\n",
        "    self.USSamples      = None\n",
        "    self.USLabels       = None\n",
        "    self.USSampleCount  = 0\n",
        "    # ................................................................\n",
        "  # --------------------------------------------------------------------------------------\n",
        "  # Method\n",
        "  def DebugPrint(self):\n",
        "    print(\"Shape of sample tensor\", self.Samples.shape)\n",
        "    print('.'*80)\n",
        "\n",
        "    print(\"Datatype of sample tensor before convertion: %s\" % str(self.Samples.dtype))\n",
        "    # Convert the data to 32bit floating point numbers (default for faster computations)\n",
        "    self.Samples = np.asarray(self.Samples, dtype=np.float32)\n",
        "    print(\"Datatype of sample tensor after convertion: %s\" % str(self.Samples.dtype))\n",
        "    print('.'*80)\n",
        "\n",
        "    # Classification into 2 classes == Binary classification\n",
        "    print(\"Class labels\")\n",
        "    print(self.Labels)\n",
        "    print('.'*80)\n",
        "  # --------------------------------------------------------------------------------------\n",
        "  def LoadSet(self, p_nSamples, p_nLabels, p_nType):\n",
        "    if p_nType == SetType.TRAINING_SET:\n",
        "      self.TSSamples = p_nSamples\n",
        "      self.TSLabels  = p_nLabels\n",
        "      self.TSSampleCount = self.TSSamples.shape[0]\n",
        "      if self.FeatureCount is None:\n",
        "        self.FeatureCount = self.TSSamples.shape[1]\n",
        "        self.ClassCount = len(np.unique(self.TSLabels))\n",
        "    elif p_nType == SetType.VALIDATION_SET:\n",
        "      self.VSSamples = p_nSamples\n",
        "      self.VSLabels = p_nLabels\n",
        "      self.VSSampleCount = self.VSSamples.shape[0]\n",
        "\n",
        "    self.SampleCount = self.TSSampleCount + self.VSSampleCount + self.USSampleCount\n",
        "# ========================================================================================================================="
      ],
      "metadata": {
        "id": "Tg9OMIvrw0aV"
      },
      "execution_count": 38,
      "outputs": []
    },
    {
      "cell_type": "code",
      "source": [],
      "metadata": {
        "id": "ag63l5bRqyNa"
      },
      "execution_count": 38,
      "outputs": []
    },
    {
      "cell_type": "code",
      "source": [
        "import os\n",
        "import numpy as np\n",
        "import pandas as pd\n",
        "import gzip\n",
        "\n",
        "\n",
        "class EMNISTDataSet(CDataSet):\n",
        "  # --------------------------------------------------------------------------------------\n",
        "  # Constructor\n",
        "  def __init__(self, filestore):\n",
        "    super(EMNISTDataSet, self).__init__()\n",
        "\n",
        "    with gzip.open(filestore.file(\"emnist-letters-test-images-idx3-ubyte.gz\"), 'rb') as f:\n",
        "        dTestImages = np.frombuffer(f.read(), np.uint8, offset = 16).reshape(-1, 28 ,28, 1)\n",
        "\n",
        "    with gzip.open(filestore.file(\"emnist-letters-train-images-idx3-ubyte.gz\"), 'rb') as f:\n",
        "        dTrainImages = np.frombuffer(f.read(), np.uint8, offset = 16).reshape(-1, 28 ,28, 1)\n",
        "\n",
        "    with gzip.open(filestore.file(\"emnist-letters-test-labels-idx1-ubyte.gz\"), 'rb') as f:\n",
        "        dTestLabels = np.frombuffer(f.read(), np.uint8, offset = 8)\n",
        "\n",
        "    with gzip.open(filestore.file(\"emnist-letters-train-labels-idx1-ubyte.gz\"), 'rb') as f:\n",
        "        dTrainLabels = np.frombuffer(f.read(), np.uint8, offset = 8)\n",
        "\n",
        "\n",
        "    self.LoadSet(dTrainImages, dTrainLabels, SetType.TRAINING_SET)\n",
        "    self.LoadSet(dTestImages, dTestLabels, SetType.VALIDATION_SET)\n",
        "  # --------------------------------------------------------------------------------------\n",
        "\n"
      ],
      "metadata": {
        "id": "EViTk5EFF7Ru"
      },
      "execution_count": 39,
      "outputs": []
    },
    {
      "cell_type": "code",
      "source": [
        "# _____// Data Hyperparameters \\\\_____\n",
        "oDatasetFS = oFileSys.datasets.subfs(\"EMNIST\")\n",
        "\n",
        "\n",
        "oEMNIST  = EMNISTDataSet(oDatasetFS)\n",
        "sDataName  = \"EMNIST\"\n",
        "nSamples   = oEMNIST.TSSamples\n",
        "nLabels    = oEMNIST.TSLabels\n",
        "\n",
        "vSamples = oEMNIST.VSSamples\n",
        "vLabels    = oEMNIST.VSLabels\n",
        "\n",
        "print(\"Loaded %s dataset\" % sDataName)\n",
        "print(\"Training set shape:\", nSamples.shape)\n",
        "print(\"Class count:\", len(np.unique(nLabels)))"
      ],
      "metadata": {
        "colab": {
          "base_uri": "https://localhost:8080/"
        },
        "id": "Uzk1xLKFq0HJ",
        "outputId": "1a346821-01d3-4d91-a4c9-2582cfd1d280"
      },
      "execution_count": 40,
      "outputs": [
        {
          "output_type": "stream",
          "name": "stdout",
          "text": [
            "Loaded EMNIST dataset\n",
            "Training set shape: (124800, 28, 28, 1)\n",
            "Class count: 26\n"
          ]
        }
      ]
    },
    {
      "cell_type": "code",
      "source": [
        "oDatasetFS.obj.save(nSamples, \"nSamples.pkl\")\n",
        "oDatasetFS.obj.save(nLabels, \"nLabels.pkl\")\n",
        "oDatasetFS.obj.save(vSamples, \"vSamples.pkl\")\n",
        "oDatasetFS.obj.save(vLabels, \"vLabels.pkl\")"
      ],
      "metadata": {
        "colab": {
          "base_uri": "https://localhost:8080/"
        },
        "id": "gKjL-AR9EoKh",
        "outputId": "65f1dbfc-cf5b-48db-beb6-5ed54de55a89"
      },
      "execution_count": 41,
      "outputs": [
        {
          "output_type": "execute_result",
          "data": {
            "text/plain": [
              "False"
            ]
          },
          "metadata": {},
          "execution_count": 41
        }
      ]
    },
    {
      "cell_type": "markdown",
      "source": [
        "# **Option 02**"
      ],
      "metadata": {
        "id": "2P--Wb3Z5Yr0"
      }
    },
    {
      "cell_type": "markdown",
      "source": [
        "The three options of traning CNN01(worst),CNN02(better) and CNN03(best)"
      ],
      "metadata": {
        "id": "JTfDDU7wWayl"
      }
    },
    {
      "cell_type": "code",
      "source": [
        "CONFIG_CNN_01 = MLExperimentConfig(number=1).assign({\n",
        "                 \"ModelName\": \"EMNIST_CNN\"\n",
        "                ,\"CNN.InputShape\": [28,28,1]\n",
        "                ,\"CNN.Classes\": 26\n",
        "                ,\"CNN.ModuleCount\": 6\n",
        "                ,\"CNN.ConvOutputFeatures\": [9,16,24,32,48,48]\n",
        "                ,\"CNN.ConvWindows\": [ [3,2,True], [3,1,True] ,  [3,1,True], [3,2,True], [3,1,True], [3,1,True] ]\n",
        "                ,\"CNN.PoolWindows\": [  None      , None       ,  None      , None      , [3,2]     , None      ]\n",
        "                ,\"CNN.HasBatchNormalization\": True\n",
        "                ,\"Training.MaxEpoch\": 12\n",
        "                ,\"Training.BatchSize\": 500\n",
        "                ,\"Training.LearningRate\": 0.001\n",
        "                ,\"Experiment.RandomSeed\": 2022\n",
        "            })\n",
        "\n",
        "oConfig = CONFIG_CNN_01"
      ],
      "metadata": {
        "id": "sLfx7JXAE5pQ"
      },
      "execution_count": 81,
      "outputs": []
    },
    {
      "cell_type": "code",
      "source": [
        "CONFIG_CNN_02 = MLExperimentConfig(number=2).assign({\n",
        "     \"ModelName\": \"Better_MNIST_CNN\"\n",
        "    ,\"CNN.InputShape\": [28,28,1]\n",
        "    ,\"CNN.Classes\": 26\n",
        "    ,\"CNN.ModuleCount\": 8  # Increased depth\n",
        "    ,\"CNN.ConvOutputFeatures\": [16, 32, 48, 64, 128, 128, 256, 256]  # More feature maps\n",
        "    ,\"CNN.ConvWindows\": [ [3,2,True], [3,1,True], [5,1,True], [3,2,True], [3,1,True], [3,1,True], [3,1,True], [3,2,True] ]\n",
        "    ,\"CNN.PoolWindows\": [  [2,2] , None , [2,2], None , None , [2,2], None , None]  # More pooling\n",
        "    ,\"CNN.HasBatchNormalization\": True\n",
        "    ,\"CNN.HasDropout\": True  # Adding dropout for regularization\n",
        "    ,\"CNN.DropoutRate\": 0.3  # Dropout rate at 30%\n",
        "    ,\"Training.MaxEpoch\": 20  # More epochs for better convergence\n",
        "    ,\"Training.BatchSize\": 256  # Lower batch size for better generalization\n",
        "    ,\"Training.LearningRate\": 0.001\n",
        "    ,\"Training.LearningRateDecay\": 0.95  # Decay learning rate over epochs\n",
        "    ,\"Experiment.RandomSeed\": 2022\n",
        "})\n",
        "\n",
        "oConfig = CONFIG_CNN_02"
      ],
      "metadata": {
        "id": "noJBkA1OqSjT"
      },
      "execution_count": 82,
      "outputs": []
    },
    {
      "cell_type": "code",
      "source": [
        "CONFIG_CNN_03 = MLExperimentConfig(number=3).assign({\n",
        "     \"ModelName\": \"Best_MNIST_CNN\"\n",
        "    ,\"CNN.InputShape\": [28,28,1]\n",
        "    ,\"CNN.Classes\": 26\n",
        "    ,\"CNN.ModuleCount\": 8  # Increased depth\n",
        "    ,\"CNN.ConvOutputFeatures\": [16, 32, 48, 64, 128, 128, 256, 256, 512, 512]  # less feature maps\n",
        "    ,\"CNN.ConvWindows\": [ [3,2,True], [3,1,True], [5,1,True], [3,2,True], [3,1,True], [3,1,True], [3,1,True], [3,2,True] ]\n",
        "    ,\"CNN.PoolWindows\": [  [2,2] , None , [2,2], None , None , [2,2], None , None]  # More pooling\n",
        "    ,\"CNN.HasBatchNormalization\": True\n",
        "    ,\"CNN.HasDropout\": True  # Adding dropout for regularization\n",
        "    ,\"CNN.DropoutRate\": 0.3  # Dropout rate at 30%\n",
        "    ,\"Training.MaxEpoch\": 20  # More epochs for better convergence\n",
        "    ,\"Training.BatchSize\": 128 # Lower batch size for better generalization\n",
        "    ,\"Training.LearningRate\": 0.0001\n",
        "    ,\"Training.LearningRateDecay\": 0.90  # Decay learning rate over epochs\n",
        "    ,\"Experiment.RandomSeed\": 2022\n",
        "})\n",
        "\n",
        "oConfig = CONFIG_CNN_03"
      ],
      "metadata": {
        "id": "jKFRC27Lu6Cy"
      },
      "execution_count": 131,
      "outputs": []
    },
    {
      "cell_type": "code",
      "source": [
        "import numpy as np\n",
        "import tensorflow as tf\n",
        "from radnn.data import DataSetBase\n",
        "\n",
        "\n",
        "class MNISTDataFeed(object):\n",
        "\n",
        "  # --------------------------------------------------------------------------------------\n",
        "  def __init__(self, p_oDataSet, p_oConfig, p_nFeatureCount=None):\n",
        "    super(MNISTDataFeed, self).__init__()\n",
        "    # ................................................................\n",
        "\n",
        "    # // Fields \\\\\n",
        "    self.DataSet: CDataSet  = p_oDataSet\n",
        "    self.FileStore          = oFileSys.datasets.subfs(\"EMNIST\")\n",
        "    self.PredictBatchSize = None\n",
        "    if \"Prediction.BatchSize\" in p_oConfig:\n",
        "      self.PredictBatchSize   = p_oConfig[\"Prediction.BatchSize\"]\n",
        "    self.TrainingBatchSize  = p_oConfig[\"Training.BatchSize\"]\n",
        "\n",
        "    # Calculate mean and std\n",
        "    oDataSetStats = self.FileStore.obj.load(\"EMNIST-meanstd.pkl\")\n",
        "    if oDataSetStats is not None:\n",
        "      self.PixelMean    = oDataSetStats[\"mean\"]\n",
        "      self.PixelStd     = oDataSetStats[\"std\"]\n",
        "    else:\n",
        "      self.calculateAndSaveDatasetStats()\n",
        "\n",
        "    if \"ClassCount\" in p_oConfig:\n",
        "      self.ClassCount = p_oConfig[\"ClassCount\"]\n",
        "    else:\n",
        "      self.ClassCount = p_oConfig[\"CNN.Classes\"]\n",
        "    if \"InputShape\" in p_oConfig:\n",
        "      self.InputShape = p_oConfig[\"InputShape\"]\n",
        "    else:\n",
        "      self.InputShape = p_oConfig[\"CNN.InputShape\"]\n",
        "    self.PaddingOffset = 3\n",
        "    self.PaddingTarget = self.InputShape[0] + 3\n",
        "\n",
        "\n",
        "    self.TSFeed       = self.CreateTrainingDataFeed((  self.DataSet.TSSamples\n",
        "                                                      ,self.DataSet.TSLabels), self.TrainingBatchSize)\n",
        "    self.TSRecallFeed = None\n",
        "    self.VSFeed       = self.CreateValidationDataFeed((self.DataSet.VSSamples,\n",
        "                                                        self.DataSet.VSLabels), 100)\n",
        "    # ................................................................\n",
        "  # --------------------------------------------------------------------------------------\n",
        "  def calculateAndSaveDatasetStats(self):\n",
        "    self.PixelMean = np.mean(self.DataSet.TSSamples, axis=(0,1,2))\n",
        "    self.PixelStd  = np.std(self.DataSet.TSSamples, axis=(0,1,2))\n",
        "    oDataSetStats = { \"mean\": self.PixelMean, \"std\": self.PixelStd}\n",
        "    self.FileStore.obj.save(oDataSetStats,\"EMNIST-meanstd.pkl\")\n",
        "  # --------------------------------------------------------------------------------------------------------\n",
        "  def denormalize_image(self, normed_image):\n",
        "      image = (normed_image * self.PixelStd) + self.PixelMean\n",
        "      image = image.astype(np.uint8)\n",
        "      return image\n",
        "  # --------------------------------------------------------------------------------------------------------\n",
        "  def normalizeImage(self, p_nImage):\n",
        "      normed_image = (p_nImage - self.PixelMean) / self.PixelStd\n",
        "      return normed_image\n",
        "  # --------------------------------------------------------------------------------------------------------\n",
        "  def randomCrop(self, image):\n",
        "      # CIFAR: We follow the simple data augmentation in [24] for training: 4 pixels are padded on each side,\n",
        "      # and a  32×32  crop is  randomly  sampled  from  the  paddedimage or its horizontal flip.\n",
        "\n",
        "      #distorted_image = image\n",
        "      distorted_image = tf.image.pad_to_bounding_box(image, self.PaddingOffset, self.PaddingOffset\n",
        "                                                          ,  self.PaddingTarget,  self.PaddingTarget)    # pad 3 pixels to each side\n",
        "      distorted_image = tf.image.random_crop(distorted_image, self.InputShape)\n",
        "      # [WARNING] Flip is a non-label preserving transformation for ExShapes\n",
        "      # distorted_image = tf.image.random_flip_left_right(distorted_image)\n",
        "      return distorted_image\n",
        "  # -----------------------------------------------------------------------------------\n",
        "  def PreprocessTrainingImageAugmentDataset(self, p_tImageInTS, p_tLabelInTS):\n",
        "    # Original feed that was used in experiments did not contain the following line but the bug was not triggered (cached image format float32?)\n",
        "    tImage = tf.cast(p_tImageInTS, tf.float32)  # //[BF] overflow of standardization\n",
        "    tNormalizedImage = self.normalizeImage(tImage)\n",
        "\n",
        "    tNewRandomImage  = self.randomCrop(tNormalizedImage)\n",
        "\n",
        "    tTargetOneHot = tf.one_hot(p_tLabelInTS, self.ClassCount)\n",
        "\n",
        "    return tNewRandomImage, tTargetOneHot\n",
        "  # --------------------------------------------------------------------------------------\n",
        "  def CreateTrainingDataFeed(self, p_oDataTuple, p_nBatchSize):\n",
        "    oTSData = tf.data.Dataset.from_tensor_slices(p_oDataTuple)\n",
        "    oTSData = oTSData.map(self.PreprocessTrainingImageAugmentDataset, num_parallel_calls=8)\n",
        "    #oTSData = oTSData.cache() # This reduced accuracy on the cifar10 data feed\n",
        "    oTSData = oTSData.shuffle(self.DataSet.TSSampleCount)\n",
        "    oTSData = oTSData.batch(p_nBatchSize)\n",
        "    #oTSData = oTSData.prefetch(buffer_size=tf.data.experimental.AUTOTUNE)\n",
        "    print(\"Training data feed object:\", oTSData)\n",
        "    return oTSData\n",
        "  # -----------------------------------------------------------------------------------\n",
        "  def PreprocessValidationImageWithID(self, p_tImageID, p_tImageInVS, p_tLabelInVS):\n",
        "    tImage = tf.cast(p_tImageInVS, tf.float32)  # //[BF] overflow of standardization\n",
        "    tNormalizedImage = self.normalizeImage(tImage)\n",
        "\n",
        "    tTargetOneHot = tf.one_hot(p_tLabelInVS, self.ClassCount)\n",
        "\n",
        "    return (p_tImageID, tNormalizedImage), tTargetOneHot\n",
        "  # -----------------------------------------------------------------------------------\n",
        "  def PreprocessValidationImage(self, p_tImageInVS, p_tLabelInVS):\n",
        "    tImage = tf.cast(p_tImageInVS, tf.float32)  # //[BF] overflow of standardization\n",
        "    tNormalizedImage = self.normalizeImage(tImage)\n",
        "\n",
        "    tTargetOneHot = tf.one_hot(p_tLabelInVS, self.ClassCount)\n",
        "\n",
        "    return tNormalizedImage, tTargetOneHot\n",
        "  # -----------------------------------------------------------------------------------\n",
        "  def CreateValidationDataFeed(self, p_oDataTuple, p_nBatchSize=None):\n",
        "    nArgsCount = len(list(p_oDataTuple))\n",
        "    if nArgsCount == 2:\n",
        "      oData = tf.data.Dataset.from_tensor_slices(p_oDataTuple)\n",
        "      oData = oData.map(self.PreprocessValidationImage, num_parallel_calls=8)\n",
        "    elif nArgsCount == 3:\n",
        "      oData = tf.data.Dataset.from_tensor_slices(p_oDataTuple)\n",
        "      oData = oData.map(self.PreprocessValidationImageWithID, num_parallel_calls=8)\n",
        "\n",
        "    if p_nBatchSize is None:\n",
        "      p_nBatchSize = self.DataSet.vs_sample_count\n",
        "    oData = oData.batch(p_nBatchSize)\n",
        "    print(\"Validation data feed object:\", oData)\n",
        "    return oData\n",
        "  # --------------------------------------------------------------------------------------"
      ],
      "metadata": {
        "id": "HrJu1hN_Gy6r"
      },
      "execution_count": 85,
      "outputs": []
    },
    {
      "cell_type": "code",
      "source": [
        "oData = MNISTDataFeed(oEMNIST, oConfig)\n",
        "\n",
        "print(\"Training data feed object:\", oData.TSFeed)\n",
        "print(\"Validation data feed object:\", oData.VSFeed)"
      ],
      "metadata": {
        "colab": {
          "base_uri": "https://localhost:8080/"
        },
        "id": "_KyfogI3GzMr",
        "outputId": "740650e3-cbc4-433f-c55d-7f8cc0977842"
      },
      "execution_count": 96,
      "outputs": [
        {
          "output_type": "stream",
          "name": "stdout",
          "text": [
            "Training data feed object: <_BatchDataset element_spec=(TensorSpec(shape=(None, 28, 28, 1), dtype=tf.float32, name=None), TensorSpec(shape=(None, 26), dtype=tf.float32, name=None))>\n",
            "Validation data feed object: <_BatchDataset element_spec=(TensorSpec(shape=(None, 28, 28, 1), dtype=tf.float32, name=None), TensorSpec(shape=(None, 26), dtype=tf.float32, name=None))>\n",
            "Training data feed object: <_BatchDataset element_spec=(TensorSpec(shape=(None, 28, 28, 1), dtype=tf.float32, name=None), TensorSpec(shape=(None, 26), dtype=tf.float32, name=None))>\n",
            "Validation data feed object: <_BatchDataset element_spec=(TensorSpec(shape=(None, 28, 28, 1), dtype=tf.float32, name=None), TensorSpec(shape=(None, 26), dtype=tf.float32, name=None))>\n"
          ]
        }
      ]
    },
    {
      "cell_type": "code",
      "source": [
        "import numpy as np\n",
        "from tensorflow import keras\n",
        "from tensorflow.keras.layers import InputLayer, Flatten, Dense, BatchNormalization, Activation, Softmax\n",
        "from tensorflow.keras.layers import Conv2D, MaxPooling2D\n",
        "from tensorflow.keras.regularizers import L2\n",
        "# =========================================================================================================================\n",
        "class CCNNCustom(keras.Model):\n",
        "  # --------------------------------------------------------------------------------------\n",
        "  # Constructor\n",
        "  def __init__(self, p_oConfig):\n",
        "    super(CCNNCustom, self).__init__()\n",
        "\n",
        "    # ..................... Object Attributes ...........................\n",
        "    self.Config = p_oConfig\n",
        "\n",
        "    self.InputShape         = self.Config[\"CNN.InputShape\"]\n",
        "    self.ClassCount         = self.Config[\"CNN.Classes\"]\n",
        "    self.ModuleCount        = self.Config[\"CNN.ModuleCount\"]\n",
        "\n",
        "    self.ConvLayerFeatures  = self.Config[\"CNN.ConvOutputFeatures\"]\n",
        "    self.ConvWindows        = self.Config[\"CNN.ConvWindows\"]\n",
        "    self.PoolWindows        = self.Config[\"CNN.PoolWindows\"]\n",
        "\n",
        "    if \"CNN.HasBatchNormalization\" not in self.Config:\n",
        "        self.Config[\"CNN.HasBatchNormalization\"] = False\n",
        "\n",
        "    self.KerasLayers        = []\n",
        "\n",
        "    self.OutputLayer        = None\n",
        "    self.SoftmaxActivation  = None\n",
        "    self.Input              = None\n",
        "    self.Structure          = None\n",
        "    # ...................................................................\n",
        "\n",
        "    # Default values for extra customization\n",
        "\n",
        "    if \"CNN.ActivationFunction\" not in self.Config:\n",
        "        self.Config[\"CNN.ActivationFunction\"] = \"relu\"\n",
        "\n",
        "    if \"CNN.ConvHasBias\" not in self.Config:\n",
        "        self.Config[\"CNN.ConvHasBias\"] = False\n",
        "\n",
        "    if \"CNN.KernelInitializer\" not in self.Config:\n",
        "        self.Config[\"CNN.KernelInitializer\"] = \"glorot_uniform\"\n",
        "\n",
        "    if \"CNN.BiasInitializer\" not in self.Config:\n",
        "        self.Config[\"CNN.BiasInitializer\"] = \"zeros\"\n",
        "\n",
        "    if \"Training.RegularizeL2\" not in self.Config:\n",
        "        self.Config[\"Training.RegularizeL2\"] = False\n",
        "\n",
        "    if \"Training.WeightDecay\" not in self.Config:\n",
        "        self.Config[\"Training.WeightDecay\"] =  1e-5\n",
        "\n",
        "    if self.Config[\"Training.RegularizeL2\"]:\n",
        "        print(\"Using L2 regularization of weights with weight decay %.6f\" % self.Config[\"Training.WeightDecay\"])\n",
        "\n",
        "\n",
        "    self.Create()\n",
        "  # --------------------------------------------------------------------------------------\n",
        "  def Create(self):                # override a virtual in our base class\n",
        "    # This loop creates stacked convolutional modules of the form   CONVOLUTION - ACTIVATION - NORMALIZATION - MAX POOLING\n",
        "    for nModuleIndex in range(0, self.ModuleCount):\n",
        "      nFeatures     = self.ConvLayerFeatures[nModuleIndex]\n",
        "      oConvWindowSetup = self.ConvWindows[nModuleIndex]\n",
        "      nWindowSize   = oConvWindowSetup[0]\n",
        "      nStride       = oConvWindowSetup[1]\n",
        "\n",
        "      sPaddingType      = \"valid\"\n",
        "      if len(oConvWindowSetup) == 3:\n",
        "          bIsPadding    = oConvWindowSetup[2]\n",
        "          if bIsPadding:\n",
        "              sPaddingType = \"same\"\n",
        "\n",
        "      if self.Config[\"Training.RegularizeL2\"]:\n",
        "          oWeightRegularizer = L2(self.Config[\"Training.WeightDecay\"])\n",
        "      else:\n",
        "          oWeightRegularizer = None\n",
        "\n",
        "      oConvolution = Conv2D(nFeatures, kernel_size=nWindowSize, strides=nStride, padding=sPaddingType\n",
        "                            , use_bias=self.Config[\"CNN.ConvHasBias\"]\n",
        "                            , kernel_regularizer=oWeightRegularizer\n",
        "                            , kernel_initializer=self.Config[\"CNN.KernelInitializer\"]\n",
        "                            , bias_initializer=self.Config[\"CNN.BiasInitializer\"])\n",
        "      self.KerasLayers.append(oConvolution)\n",
        "\n",
        "      oActivation  = Activation(self.Config[\"CNN.ActivationFunction\"])\n",
        "      self.KerasLayers.append(oActivation)\n",
        "\n",
        "      if self.Config[\"CNN.HasBatchNormalization\"]:\n",
        "          oNormalization = BatchNormalization()\n",
        "          self.KerasLayers.append(oNormalization)\n",
        "\n",
        "      oPoolWindow   = self.PoolWindows[nModuleIndex]\n",
        "      # Set the pool size to None for a module that does not do Max Pooling.\n",
        "      if oPoolWindow is not None:\n",
        "          nPoolSize   = oPoolWindow[0]\n",
        "          nPoolStride = oPoolWindow[1]\n",
        "          oMaxPooling = MaxPooling2D(pool_size=[nPoolSize, nPoolSize], strides=[nPoolStride, nPoolStride])\n",
        "          self.KerasLayers.append(oMaxPooling)\n",
        "\n",
        "\n",
        "    # After the stack of convolutional modules, the activation cube will be flattened to a vector using a Flatten keras layer\n",
        "    self.FlatteningLayer = Flatten()\n",
        "\n",
        "\n",
        "    # The output layer for the classifier is a fully connected (dense) that has one neuron for each class.\n",
        "    # You might consider the stack of convolutional modules functioning as the \"hidden\" layer in the 2-layer NN architecture.\n",
        "    if self.Config[\"Training.RegularizeL2\"]:\n",
        "        oWeightRegularizer = L2(self.Config[\"Training.WeightDecay\"])\n",
        "    else:\n",
        "        oWeightRegularizer = None\n",
        "    self.OutputLayer = Dense(self.ClassCount, use_bias=True\n",
        "                             ,kernel_regularizer=oWeightRegularizer )\n",
        "\n",
        "    # Instead of using sigmoid for each neuron, we use the softmax activation function so that neuron \"fire\" together.\n",
        "    self.SoftmaxActivation = Softmax()\n",
        "  # --------------------------------------------------------------------------------------------------------\n",
        "  def call(self, p_tInput):        # overrides a virtual in keras.Model class\n",
        "    bPrint = self.Structure is None\n",
        "    if bPrint:\n",
        "        self.Structure = []\n",
        "\n",
        "    self.Input = p_tInput\n",
        "\n",
        "    # ....... Convolutional Feature Extraction  .......\n",
        "    # Feed forward to the next layer\n",
        "    tA = p_tInput\n",
        "    for nIndex,oKerasLayer in enumerate(self.KerasLayers):\n",
        "        if bPrint:\n",
        "            self.Structure.append([nIndex + 1, str(tA.name), str(tA.shape)])\n",
        "        tA = oKerasLayer(tA)\n",
        "\n",
        "    # Flattens the activation cube to a vector\n",
        "    tA = self.FlatteningLayer(tA)\n",
        "    if bPrint:\n",
        "        nIndex += 1\n",
        "        self.Structure.append([nIndex + 1, str(tA.name), str(tA.shape)])\n",
        "\n",
        "    # ....... Classifier  .......\n",
        "    # Fully connected (dense) layer that has a count of neurons equal to the classes, with softmax activation function\n",
        "    tA = self.OutputLayer(tA)\n",
        "    if bPrint:\n",
        "        nIndex += 1\n",
        "        self.Structure.append([nIndex + 1, str(tA.name), str(tA.shape)])\n",
        "\n",
        "    tA = self.SoftmaxActivation(tA)\n",
        "    if bPrint:\n",
        "        nIndex += 1\n",
        "        self.Structure.append([nIndex + 1, str(tA.name), str(tA.shape)])\n",
        "\n",
        "\n",
        "    return tA\n",
        "  # --------------------------------------------------------------------------------------\n",
        "# ========================================================================================================================="
      ],
      "metadata": {
        "id": "iSPuuOscq7Cc"
      },
      "execution_count": 97,
      "outputs": []
    },
    {
      "cell_type": "code",
      "source": [
        "oConfig = CONFIG_CNN_03 #change the model here - Options: (\"CONFIG_CNN_01\"/\"CONFIG_CNN_02\"/\"CONFIG_CNN_03\")\n",
        "oCNN = CCNNCustom(oConfig)\n",
        "\n",
        "# -----------------------------------------------------------------------------------\n",
        "def LRSchedule(epoch, lr):\n",
        "    if epoch == 10:\n",
        "        nNewLR = lr * 0.5\n",
        "        print(\"Setting LR to %.5f\" % nNewLR)\n",
        "        return nNewLR\n",
        "    else:\n",
        "        return lr\n",
        "# -----------------------------------------------------------------------------------\n",
        "\n",
        "nInitialLearningRate    = oConfig[\"Training.LearningRate\"]\n",
        "\n",
        "oCostFunction  = tf.keras.losses.CategoricalCrossentropy(from_logits=False)\n",
        "oOptimizer = tf.keras.optimizers.Adam(learning_rate=nInitialLearningRate)\n",
        "oCallbacks = None"
      ],
      "metadata": {
        "id": "t701KdDz4cJ1"
      },
      "execution_count": 132,
      "outputs": []
    },
    {
      "cell_type": "code",
      "source": [
        "print(\"-------------------- Experiment Configuration ------------------\") #Check which one you chose\n",
        "print(oConfig)"
      ],
      "metadata": {
        "colab": {
          "base_uri": "https://localhost:8080/"
        },
        "id": "L0vL1nNy5LAY",
        "outputId": "17c890a3-b093-48ed-99ba-b0e27eb25f17"
      },
      "execution_count": 133,
      "outputs": [
        {
          "output_type": "stream",
          "name": "stdout",
          "text": [
            "-------------------- Experiment Configuration ------------------\n",
            "{\n",
            "  Experiment.BaseName: \"Best_MNIST_CNN\",\n",
            "  Experiment.Number: \"3\",\n",
            "  ModelName: \"Best_MNIST_CNN\",\n",
            "  CNN.InputShape: \"[28, 28, 1]\",\n",
            "  CNN.Classes: \"26\",\n",
            "  CNN.ModuleCount: \"8\",\n",
            "  CNN.ConvOutputFeatures: \"[16, 32, 48, 64, 128, 128, 256, 256, 512, 512]\",\n",
            "  CNN.ConvWindows: \"[ListWrapper([3, 2, True]), ListWrapper([3, 1, True]), ListWrapper([5, 1, True]), ListWrapper([3, 2, True]), ListWrapper([3, 1, True]), ListWrapper([3, 1, True]), ListWrapper([3, 1, True]), ListWrapper([3, 2, True])]\",\n",
            "  CNN.PoolWindows: \"[ListWrapper([2, 2]), None, ListWrapper([2, 2]), None, None, ListWrapper([2, 2]), None, None]\",\n",
            "  CNN.HasBatchNormalization: \"True\",\n",
            "  CNN.HasDropout: \"True\",\n",
            "  CNN.DropoutRate: \"0.3\",\n",
            "  Training.MaxEpoch: \"10\",\n",
            "  Training.BatchSize: \"128\",\n",
            "  Training.LearningRate: \"0.0001\",\n",
            "  Training.LearningRateDecay: \"0.9\",\n",
            "  Experiment.RandomSeed: \"2022\",\n",
            "  CNN.ActivationFunction: \"relu\",\n",
            "  CNN.ConvHasBias: \"False\",\n",
            "  CNN.KernelInitializer: \"glorot_uniform\",\n",
            "  CNN.BiasInitializer: \"zeros\",\n",
            "  Training.RegularizeL2: \"False\",\n",
            "  Training.WeightDecay: \"1e-05\",\n",
            "}\n"
          ]
        }
      ]
    },
    {
      "cell_type": "code",
      "source": [
        "from radnn import mlsys\n",
        "mlsys.random_seed_all(oConfig[\"Experiment.RandomSeed\"])\n",
        "print(oConfig)"
      ],
      "metadata": {
        "colab": {
          "base_uri": "https://localhost:8080/"
        },
        "id": "2-GIQXm25-9e",
        "outputId": "277c655c-c9fb-4cad-af58-51cfb423bb64"
      },
      "execution_count": 134,
      "outputs": [
        {
          "output_type": "stream",
          "name": "stdout",
          "text": [
            "(>) Random seed set to 2022\n",
            "{\n",
            "  Experiment.BaseName: \"Best_MNIST_CNN\",\n",
            "  Experiment.Number: \"3\",\n",
            "  ModelName: \"Best_MNIST_CNN\",\n",
            "  CNN.InputShape: \"[28, 28, 1]\",\n",
            "  CNN.Classes: \"26\",\n",
            "  CNN.ModuleCount: \"8\",\n",
            "  CNN.ConvOutputFeatures: \"[16, 32, 48, 64, 128, 128, 256, 256, 512, 512]\",\n",
            "  CNN.ConvWindows: \"[ListWrapper([3, 2, True]), ListWrapper([3, 1, True]), ListWrapper([5, 1, True]), ListWrapper([3, 2, True]), ListWrapper([3, 1, True]), ListWrapper([3, 1, True]), ListWrapper([3, 1, True]), ListWrapper([3, 2, True])]\",\n",
            "  CNN.PoolWindows: \"[ListWrapper([2, 2]), None, ListWrapper([2, 2]), None, None, ListWrapper([2, 2]), None, None]\",\n",
            "  CNN.HasBatchNormalization: \"True\",\n",
            "  CNN.HasDropout: \"True\",\n",
            "  CNN.DropoutRate: \"0.3\",\n",
            "  Training.MaxEpoch: \"10\",\n",
            "  Training.BatchSize: \"128\",\n",
            "  Training.LearningRate: \"0.0001\",\n",
            "  Training.LearningRateDecay: \"0.9\",\n",
            "  Experiment.RandomSeed: \"2022\",\n",
            "  CNN.ActivationFunction: \"relu\",\n",
            "  CNN.ConvHasBias: \"False\",\n",
            "  CNN.KernelInitializer: \"glorot_uniform\",\n",
            "  CNN.BiasInitializer: \"zeros\",\n",
            "  Training.RegularizeL2: \"False\",\n",
            "  Training.WeightDecay: \"1e-05\",\n",
            "}\n"
          ]
        }
      ]
    },
    {
      "cell_type": "code",
      "execution_count": 135,
      "metadata": {
        "id": "0NK7VS2ocKm4",
        "colab": {
          "base_uri": "https://localhost:8080/"
        },
        "outputId": "b2aacdb1-2f37-4b44-b2a3-4ec9da14499a"
      },
      "outputs": [
        {
          "output_type": "stream",
          "name": "stdout",
          "text": [
            "Epoch 1/10\n",
            "488/488 [==============================] - 17s 18ms/step - loss: 1.1872 - accuracy: 0.6082 - val_loss: 0.7198 - val_accuracy: 0.7445\n",
            "Epoch 2/10\n",
            "488/488 [==============================] - 15s 19ms/step - loss: 0.4778 - accuracy: 0.8115 - val_loss: 0.4344 - val_accuracy: 0.8271\n",
            "Epoch 3/10\n",
            "488/488 [==============================] - 12s 16ms/step - loss: 0.3614 - accuracy: 0.8473 - val_loss: 0.3501 - val_accuracy: 0.8508\n",
            "Epoch 4/10\n",
            "488/488 [==============================] - 14s 16ms/step - loss: 0.3106 - accuracy: 0.8615 - val_loss: 0.3338 - val_accuracy: 0.8579\n",
            "Epoch 5/10\n",
            "488/488 [==============================] - 14s 16ms/step - loss: 0.3266 - accuracy: 0.8639 - val_loss: 0.4148 - val_accuracy: 0.8524\n",
            "Epoch 6/10\n",
            "488/488 [==============================] - 12s 17ms/step - loss: 0.3829 - accuracy: 0.8640 - val_loss: 0.4211 - val_accuracy: 0.8904\n",
            "Epoch 7/10\n",
            "488/488 [==============================] - 12s 16ms/step - loss: 0.3909 - accuracy: 0.8694 - val_loss: 0.4253 - val_accuracy: 0.8683\n",
            "Epoch 8/10\n",
            "488/488 [==============================] - 13s 16ms/step - loss: 0.3974 - accuracy: 0.8738 - val_loss: 0.4645 - val_accuracy: 0.8573\n",
            "Epoch 9/10\n",
            "488/488 [==============================] - 12s 16ms/step - loss: 0.4001 - accuracy: 0.8791 - val_loss: 0.4528 - val_accuracy: 0.8653\n",
            "Epoch 10/10\n",
            "488/488 [==============================] - 13s 15ms/step - loss: 0.4065 - accuracy: 0.8812 - val_loss: 0.4202 - val_accuracy: 0.9015\n"
          ]
        },
        {
          "output_type": "stream",
          "name": "stderr",
          "text": [
            "WARNING:tensorflow:Model's `__init__()` arguments contain non-serializable objects. Please implement a `get_config()` method in the subclassed Model for proper saving and loading. Defaulting to empty config.\n",
            "WARNING:tensorflow:Model's `__init__()` arguments contain non-serializable objects. Please implement a `get_config()` method in the subclassed Model for proper saving and loading. Defaulting to empty config.\n",
            "WARNING:tensorflow:Model's `__init__()` arguments contain non-serializable objects. Please implement a `get_config()` method in the subclassed Model for proper saving and loading. Defaulting to empty config.\n"
          ]
        },
        {
          "output_type": "stream",
          "name": "stdout",
          "text": [
            "Saving to /content/gdrive/My Drive/Colab Notebooks/MSDS680/MLData/MLModels/Best_MNIST_CNN_03.keras\n",
            "Model: \"ccnn_custom\"\n",
            "_________________________________________________________________\n",
            " Layer (type)                Output Shape              Param #   \n",
            "=================================================================\n",
            " conv2d (Conv2D)             multiple                  144       \n",
            "                                                                 \n",
            " activation (Activation)     multiple                  0         \n",
            "                                                                 \n",
            " batch_normalization (Batch  multiple                  64        \n",
            " Normalization)                                                  \n",
            "                                                                 \n",
            " max_pooling2d (MaxPooling2  multiple                  0         \n",
            " D)                                                              \n",
            "                                                                 \n",
            " conv2d_1 (Conv2D)           multiple                  4608      \n",
            "                                                                 \n",
            " activation_1 (Activation)   multiple                  0         \n",
            "                                                                 \n",
            " batch_normalization_1 (Bat  multiple                  128       \n",
            " chNormalization)                                                \n",
            "                                                                 \n",
            " conv2d_2 (Conv2D)           multiple                  38400     \n",
            "                                                                 \n",
            " activation_2 (Activation)   multiple                  0         \n",
            "                                                                 \n",
            " batch_normalization_2 (Bat  multiple                  192       \n",
            " chNormalization)                                                \n",
            "                                                                 \n",
            " max_pooling2d_1 (MaxPoolin  multiple                  0         \n",
            " g2D)                                                            \n",
            "                                                                 \n",
            " conv2d_3 (Conv2D)           multiple                  27648     \n",
            "                                                                 \n",
            " activation_3 (Activation)   multiple                  0         \n",
            "                                                                 \n",
            " batch_normalization_3 (Bat  multiple                  256       \n",
            " chNormalization)                                                \n",
            "                                                                 \n",
            " conv2d_4 (Conv2D)           multiple                  73728     \n",
            "                                                                 \n",
            " activation_4 (Activation)   multiple                  0         \n",
            "                                                                 \n",
            " batch_normalization_4 (Bat  multiple                  512       \n",
            " chNormalization)                                                \n",
            "                                                                 \n",
            " conv2d_5 (Conv2D)           multiple                  147456    \n",
            "                                                                 \n",
            " activation_5 (Activation)   multiple                  0         \n",
            "                                                                 \n",
            " batch_normalization_5 (Bat  multiple                  512       \n",
            " chNormalization)                                                \n",
            "                                                                 \n",
            " max_pooling2d_2 (MaxPoolin  multiple                  0         \n",
            " g2D)                                                            \n",
            "                                                                 \n",
            " conv2d_6 (Conv2D)           multiple                  294912    \n",
            "                                                                 \n",
            " activation_6 (Activation)   multiple                  0         \n",
            "                                                                 \n",
            " batch_normalization_6 (Bat  multiple                  1024      \n",
            " chNormalization)                                                \n",
            "                                                                 \n",
            " conv2d_7 (Conv2D)           multiple                  589824    \n",
            "                                                                 \n",
            " activation_7 (Activation)   multiple                  0         \n",
            "                                                                 \n",
            " batch_normalization_7 (Bat  multiple                  1024      \n",
            " chNormalization)                                                \n",
            "                                                                 \n",
            " flatten (Flatten)           multiple                  0         \n",
            "                                                                 \n",
            " dense (Dense)               multiple                  6682      \n",
            "                                                                 \n",
            " softmax (Softmax)           multiple                  0         \n",
            "                                                                 \n",
            "=================================================================\n",
            "Total params: 1187114 (4.53 MB)\n",
            "Trainable params: 1185258 (4.52 MB)\n",
            "Non-trainable params: 1856 (7.25 KB)\n",
            "_________________________________________________________________\n"
          ]
        }
      ],
      "source": [
        "IS_RETRAINING = True\n",
        "\n",
        "oModelFS = oFileSys.models.subfs(oConfig.experiment_code)\n",
        "sModelFolder = oModelFS.base_folder\n",
        "# Append the .keras extension to the model folder path\n",
        "sModelFolder = sModelFolder + \".keras\"  # or sModelFolder + \".h5\" for HDF5 format\n",
        "sProcessLogFileName = \"train.history\"\n",
        "\n",
        "if (not os.path.isdir(sModelFolder)) or IS_RETRAINING:\n",
        "  oCNN.compile(loss=oCostFunction, optimizer=oOptimizer, metrics=[\"accuracy\"])\n",
        "  oProcessLog = oCNN.fit(  oData.TSFeed, batch_size=oConfig[\"Training.BatchSize\"]\n",
        "                            ,epochs=oConfig[\"Training.MaxEpoch\"]\n",
        "                            ,validation_data=oData.VSFeed\n",
        "                          )\n",
        "  print(f\"Saving to {sModelFolder}\")\n",
        "  oCNN.save(sModelFolder)\n",
        "  oHistory = oProcessLog.history\n",
        "  oModelFS.obj.save(oHistory, sProcessLogFileName, is_overwriting=True)\n",
        "else:\n",
        "  print(f\"Loading from {sModelFolder}\")\n",
        "  oCNN = tf.keras.models.load_model(sModelFolder)\n",
        "  oHistory = oModelFS.obj.load(sProcessLogFileName)\n",
        "oCNN.summary()"
      ]
    },
    {
      "cell_type": "code",
      "source": [
        "import csv\n",
        "\n",
        "sFileName = oModelFS.file(f\"Model-Structure-{oConfig.experiment_code}.csv\")\n",
        "\n",
        "with open(sFileName, \"w\") as f:\n",
        "    write = csv.writer(f)\n",
        "    for oItem in oCNN.Structure:\n",
        "        print(oItem)\n",
        "        write.writerow(oItem)"
      ],
      "metadata": {
        "id": "xKa7isPR9SWk",
        "colab": {
          "base_uri": "https://localhost:8080/"
        },
        "outputId": "eac6c952-2b4d-4723-aefe-30b20bd0d82f"
      },
      "execution_count": 136,
      "outputs": [
        {
          "output_type": "stream",
          "name": "stdout",
          "text": [
            "ListWrapper([1, 'IteratorGetNext:0', '(None, 28, 28, 1)'])\n",
            "ListWrapper([2, 'ccnn_custom/conv2d/Conv2D:0', '(None, 14, 14, 16)'])\n",
            "ListWrapper([3, 'ccnn_custom/activation/Relu:0', '(None, 14, 14, 16)'])\n",
            "ListWrapper([4, 'ccnn_custom/batch_normalization/FusedBatchNormV3:0', '(None, 14, 14, 16)'])\n",
            "ListWrapper([5, 'ccnn_custom/max_pooling2d/MaxPool:0', '(None, 7, 7, 16)'])\n",
            "ListWrapper([6, 'ccnn_custom/conv2d_1/Conv2D:0', '(None, 7, 7, 32)'])\n",
            "ListWrapper([7, 'ccnn_custom/activation_1/Relu:0', '(None, 7, 7, 32)'])\n",
            "ListWrapper([8, 'ccnn_custom/batch_normalization_1/FusedBatchNormV3:0', '(None, 7, 7, 32)'])\n",
            "ListWrapper([9, 'ccnn_custom/conv2d_2/Conv2D:0', '(None, 7, 7, 48)'])\n",
            "ListWrapper([10, 'ccnn_custom/activation_2/Relu:0', '(None, 7, 7, 48)'])\n",
            "ListWrapper([11, 'ccnn_custom/batch_normalization_2/FusedBatchNormV3:0', '(None, 7, 7, 48)'])\n",
            "ListWrapper([12, 'ccnn_custom/max_pooling2d_1/MaxPool:0', '(None, 3, 3, 48)'])\n",
            "ListWrapper([13, 'ccnn_custom/conv2d_3/Conv2D:0', '(None, 2, 2, 64)'])\n",
            "ListWrapper([14, 'ccnn_custom/activation_3/Relu:0', '(None, 2, 2, 64)'])\n",
            "ListWrapper([15, 'ccnn_custom/batch_normalization_3/FusedBatchNormV3:0', '(None, 2, 2, 64)'])\n",
            "ListWrapper([16, 'ccnn_custom/conv2d_4/Conv2D:0', '(None, 2, 2, 128)'])\n",
            "ListWrapper([17, 'ccnn_custom/activation_4/Relu:0', '(None, 2, 2, 128)'])\n",
            "ListWrapper([18, 'ccnn_custom/batch_normalization_4/FusedBatchNormV3:0', '(None, 2, 2, 128)'])\n",
            "ListWrapper([19, 'ccnn_custom/conv2d_5/Conv2D:0', '(None, 2, 2, 128)'])\n",
            "ListWrapper([20, 'ccnn_custom/activation_5/Relu:0', '(None, 2, 2, 128)'])\n",
            "ListWrapper([21, 'ccnn_custom/batch_normalization_5/FusedBatchNormV3:0', '(None, 2, 2, 128)'])\n",
            "ListWrapper([22, 'ccnn_custom/max_pooling2d_2/MaxPool:0', '(None, 1, 1, 128)'])\n",
            "ListWrapper([23, 'ccnn_custom/conv2d_6/Conv2D:0', '(None, 1, 1, 256)'])\n",
            "ListWrapper([24, 'ccnn_custom/activation_6/Relu:0', '(None, 1, 1, 256)'])\n",
            "ListWrapper([25, 'ccnn_custom/batch_normalization_6/FusedBatchNormV3:0', '(None, 1, 1, 256)'])\n",
            "ListWrapper([26, 'ccnn_custom/conv2d_7/Conv2D:0', '(None, 1, 1, 256)'])\n",
            "ListWrapper([27, 'ccnn_custom/activation_7/Relu:0', '(None, 1, 1, 256)'])\n",
            "ListWrapper([28, 'ccnn_custom/flatten/Reshape:0', '(None, 256)'])\n",
            "ListWrapper([29, 'ccnn_custom/dense/BiasAdd:0', '(None, 26)'])\n",
            "ListWrapper([30, 'ccnn_custom/softmax/Softmax:0', '(None, 26)'])\n"
          ]
        }
      ]
    },
    {
      "cell_type": "markdown",
      "source": [
        "# **Model Evaluation**"
      ],
      "metadata": {
        "id": "2s-Zz6TE6FH4"
      }
    },
    {
      "cell_type": "code",
      "source": [
        "from radnn.plots import PlotLearningCurve\n",
        "\n",
        "sPlotFileName = oFileSys.models.file(f'{oConfig.experiment_code}-LearningCurve-%s.png')\n",
        "oPlot = PlotLearningCurve(oHistory, oConfig.experiment_code)\n",
        "oPlot.prepare().save(sPlotFileName % \"Accuracy\").show()\n",
        "oPlot.prepare_cost(\"CCE\").save(sPlotFileName % \"CCE\").show()"
      ],
      "metadata": {
        "id": "47KC1TKn90oe",
        "colab": {
          "base_uri": "https://localhost:8080/",
          "height": 942
        },
        "outputId": "427b4901-ddf6-4816-bad4-a650e4528438"
      },
      "execution_count": 137,
      "outputs": [
        {
          "output_type": "stream",
          "name": "stdout",
          "text": [
            "Keys in training process log: dict_keys(['loss', 'accuracy', 'val_loss', 'val_accuracy'])\n"
          ]
        },
        {
          "output_type": "display_data",
          "data": {
            "text/plain": [
              "<Figure size 640x480 with 1 Axes>"
            ],
            "image/png": "[encoded data removed]"
          },
          "metadata": {}
        },
        {
          "output_type": "display_data",
          "data": {
            "text/plain": [
              "<Figure size 640x480 with 1 Axes>"
            ],
            "image/png": "[encoded data removed]"
          },
          "metadata": {}
        }
      ]
    },
    {
      "cell_type": "code",
      "source": [
        "nPredictedProbabilities = oCNN.predict(oData.VSFeed)\n",
        "nPredictedClassLabels  = np.argmax(nPredictedProbabilities, axis=1)\n",
        "\n",
        "nTargetClassLabels     = oEMNIST.VSLabels\n",
        "\n",
        "for nIndex, nProbs in enumerate(nPredictedProbabilities):\n",
        "  if nIndex < 10:\n",
        "    print(\"#%.2d Predicted:%d (Probabilities:%s) Actual:%d\" % (nIndex+1, nPredictedClassLabels[nIndex], nProbs, nTargetClassLabels[nIndex])) # [PYTHON] Format string example\n",
        "    print(\"  |__ Sum of all output neuron activations:%.3f\" % np.sum(nProbs))\n",
        "\n",
        "\n"
      ],
      "metadata": {
        "id": "4fR580auIVf7",
        "colab": {
          "base_uri": "https://localhost:8080/"
        },
        "outputId": "235c89ab-6db7-481b-990b-e9b1417503a0"
      },
      "execution_count": 138,
      "outputs": [
        {
          "output_type": "stream",
          "name": "stdout",
          "text": [
            "208/208 [==============================] - 1s 4ms/step\n",
            "#01 Predicted:1 (Probabilities:[6.4733289e-03 8.8270056e-01 9.6831570e-04 5.6591430e-03 1.2357398e-03\n",
            " 2.2513745e-02 1.3077512e-03 7.7457572e-03 3.1841560e-03 1.5273786e-03\n",
            " 1.3591549e-03 5.4547605e-03 4.3522916e-04 8.0396784e-03 7.9142125e-03\n",
            " 4.7147521e-03 1.7339482e-03 5.4929103e-03 5.9014745e-03 1.5829842e-03\n",
            " 4.8675947e-03 9.9947890e-03 1.7219944e-03 3.5599966e-03 2.4640472e-03\n",
            " 1.4465703e-03]) Actual:1\n",
            "  |__ Sum of all output neuron activations:1.000\n",
            "#02 Predicted:1 (Probabilities:[2.7516684e-03 9.6102959e-01 8.5242547e-04 1.7393227e-03 6.6054397e-04\n",
            " 5.6375265e-03 1.7235290e-03 1.6772372e-03 3.3769493e-03 9.5387042e-04\n",
            " 2.6687066e-04 8.3771133e-04 2.9005829e-04 1.4390972e-03 2.1359520e-03\n",
            " 1.3806297e-03 2.2669011e-03 1.1754455e-03 3.6859002e-03 9.7285496e-04\n",
            " 1.5900260e-03 5.5706140e-04 2.0051839e-04 1.9903870e-03 6.6550315e-04\n",
            " 1.4234663e-04]) Actual:1\n",
            "  |__ Sum of all output neuron activations:1.000\n",
            "#03 Predicted:1 (Probabilities:[7.2470093e-03 7.8279680e-01 1.6251627e-03 1.4446941e-02 2.2602056e-03\n",
            " 1.0433493e-02 2.0971065e-03 4.7796860e-02 6.8220189e-03 6.1746789e-03\n",
            " 5.7525281e-03 2.0915607e-03 6.8214722e-04 4.4127302e-03 7.8170532e-03\n",
            " 8.8582877e-03 5.7349447e-03 3.4333557e-02 4.8566777e-03 2.2966813e-03\n",
            " 5.0681224e-03 9.4313296e-03 2.5249054e-03 1.7271936e-02 4.6026935e-03\n",
            " 2.5646205e-03]) Actual:1\n",
            "  |__ Sum of all output neuron activations:1.000\n",
            "#04 Predicted:1 (Probabilities:[6.2911911e-03 7.5822020e-01 1.5325036e-03 8.5694408e-03 1.6033248e-03\n",
            " 1.4346093e-02 2.5935827e-03 3.4773655e-02 5.7292222e-03 3.6431774e-03\n",
            " 5.4599680e-03 3.1010511e-03 6.1167643e-04 4.3806965e-03 4.2388807e-03\n",
            " 7.0337965e-03 3.7167836e-03 9.1909461e-02 4.1766390e-03 3.4779012e-03\n",
            " 5.5101854e-03 1.0934678e-02 1.8345150e-03 1.0716972e-02 2.8463101e-03\n",
            " 2.7480759e-03]) Actual:1\n",
            "  |__ Sum of all output neuron activations:1.000\n",
            "#05 Predicted:1 (Probabilities:[0.03267908 0.2585307  0.01683501 0.00761405 0.0320946  0.02719089\n",
            " 0.00808218 0.00781293 0.17673188 0.01319438 0.01070508 0.06681634\n",
            " 0.00359265 0.06886903 0.06735603 0.01810927 0.01088558 0.01503143\n",
            " 0.02869605 0.00837798 0.01554672 0.03023284 0.00370742 0.03407337\n",
            " 0.02834217 0.00889227]) Actual:1\n",
            "  |__ Sum of all output neuron activations:1.000\n",
            "#06 Predicted:1 (Probabilities:[2.4464552e-03 9.6383017e-01 6.5771735e-04 1.4575567e-03 5.9829105e-04\n",
            " 7.8107067e-03 8.9913368e-04 2.5168473e-03 1.6992164e-03 7.1456056e-04\n",
            " 3.7246733e-04 7.2981959e-04 3.3278420e-04 1.5367254e-03 2.8267226e-03\n",
            " 7.4327382e-04 1.3092234e-03 8.6538214e-04 3.2075823e-03 1.0291556e-03\n",
            " 1.0987498e-03 6.1991636e-04 2.8733790e-04 1.6266123e-03 6.5407378e-04\n",
            " 1.2957634e-04]) Actual:1\n",
            "  |__ Sum of all output neuron activations:1.000\n",
            "#07 Predicted:1 (Probabilities:[4.3571126e-03 9.2515254e-01 1.0494529e-03 3.5113790e-03 1.5380384e-03\n",
            " 1.8675679e-02 1.3549073e-03 3.1390393e-03 3.1903014e-03 1.7171990e-03\n",
            " 1.0320334e-03 1.3080804e-03 3.1940918e-04 3.2239191e-03 3.7737547e-03\n",
            " 2.9802164e-03 1.4920613e-03 4.2804633e-03 3.7945320e-03 1.1458211e-03\n",
            " 2.0536066e-03 4.2901221e-03 7.3673116e-04 3.3973281e-03 1.9430087e-03\n",
            " 5.4338173e-04]) Actual:1\n",
            "  |__ Sum of all output neuron activations:1.000\n",
            "#08 Predicted:1 (Probabilities:[0.01031573 0.73439753 0.00553617 0.00407927 0.0042787  0.01782484\n",
            " 0.00449405 0.01107332 0.00804349 0.00423375 0.00457318 0.00455197\n",
            " 0.00142012 0.06182566 0.01761318 0.00737428 0.00839719 0.02357824\n",
            " 0.00384195 0.00473236 0.00912173 0.01376883 0.00193674 0.02824876\n",
            " 0.00360712 0.00113185]) Actual:1\n",
            "  |__ Sum of all output neuron activations:1.000\n",
            "#09 Predicted:1 (Probabilities:[0.01134506 0.65112704 0.00263812 0.01818772 0.0061778  0.05656876\n",
            " 0.00359061 0.03777858 0.00669838 0.00613398 0.00405175 0.00595936\n",
            " 0.00160642 0.00527312 0.01163043 0.01329612 0.00571732 0.09872925\n",
            " 0.01234154 0.00607549 0.00980919 0.0049313  0.00302355 0.01058841\n",
            " 0.00301969 0.00370106]) Actual:1\n",
            "  |__ Sum of all output neuron activations:1.000\n",
            "#10 Predicted:1 (Probabilities:[5.8536688e-03 9.0530169e-01 1.8150595e-03 2.4955045e-03 4.5595919e-03\n",
            " 1.2582121e-02 3.7418827e-03 4.9038492e-03 1.0963002e-02 2.1919513e-03\n",
            " 1.0563229e-03 2.6114369e-03 7.4385427e-04 1.7545203e-03 4.5785401e-03\n",
            " 2.5625078e-03 2.2355812e-03 4.7460701e-03 9.0122540e-03 2.9605769e-03\n",
            " 5.4339003e-03 1.1894763e-03 8.7243528e-04 3.1525698e-03 2.1316772e-03\n",
            " 5.4979057e-04]) Actual:1\n",
            "  |__ Sum of all output neuron activations:1.000\n"
          ]
        }
      ]
    },
    {
      "cell_type": "code",
      "source": [
        "from radnn.evaluation import EvaluateClassification\n",
        "\n",
        "# We create an evaluator object that will produce several metrics\n",
        "oEvaluator = EvaluateClassification(nTargetClassLabels, nPredictedClassLabels)\n",
        "oEvaluator.print_per_class()\n",
        "oEvaluator.print_overall()\n",
        "oEvaluator.print_confusion_matrix()"
      ],
      "metadata": {
        "id": "uL-sQX0W9PFF",
        "colab": {
          "base_uri": "https://localhost:8080/"
        },
        "outputId": "e897eaf3-7112-4acc-b888-70f63fd7128b"
      },
      "execution_count": 139,
      "outputs": [
        {
          "output_type": "stream",
          "name": "stdout",
          "text": [
            "                            |   1    |   2    |   3    |   4    |   5    |   6    |   7    |   8    |   9    |  10    |  11    |  12    |  13    |  14    |  15    |  16    |  17    |  18    |  19    |  20    |  21    |  22    |  23    |  24    |  25    |  26   |\n",
            "----------------------------------------------------------------------------------------------------------------------------------------------------------------------------------------------------------------------------------------------------------------------\n",
            "Per Class Recall %          | 0.00   | 90.88  | 90.25  | 91.38  | 89.62  | 95.88  | 92.38  | 68.38  | 91.12  | 76.12  | 90.25  | 94.38  | 72.75  | 96.50  | 90.38  | 96.12  | 96.25  | 80.12  | 92.75  | 95.12  | 97.25  | 94.62  | 89.50  | 95.12  | 94.25  | 93.50  | 0.00  |\n",
            "Per Class Precision %       | 0.00   | 80.87  | 96.14  | 96.31  | 91.92  | 88.36  | 95.35  | 83.38  | 89.67  | 70.65  | 94.13  | 92.75  | 75.19  | 94.84  | 91.17  | 90.79  | 96.49  | 74.36  | 91.95  | 97.31  | 90.15  | 90.12  | 93.96  | 99.22  | 94.37  | 90.89  | 0.00  |\n",
            "----------------------------------------------------------------------------------------------------------------------------------------------------------------------------------------------------------------------------------------------------------------------\n",
            "Accuracy %                  :86.726\n",
            "Average F1 Score %          :86.560\n",
            "Weighted Average Recall %   :86.726\n",
            "Weighted Average Precision %:86.552\n",
            "\n",
            "                    Predicted  \n",
            "               -----------------------------------------------------------------------------------------------------------------------------------------\n",
            "        Actual |    0    0    0    0    0    0    0    0    0    0    0    0    0    0    0    0    0    0    0    0    0    0    0    0    0    0    0 |\n",
            "               |    2  727    1    1    3    4    0    4   11    0    0    4    0    7    2    9    1   14    1    0    1    5    0    1    2    0    0 |\n",
            "               |    4    8  722    0   11    3    0    9   17    3    0    4    3    0    1    3    1    2    2    2    2    3    0    0    0    0    0 |\n",
            "               |    0   12    0  731    2   39    0    2    1    0    0    0    1    0    0    4    0    1    3    1    0    3    0    0    0    0    0 |\n",
            "               |    2   12    1    1  717    0    0    2    1    0    1    0    0    0    3   45    5    2    0    0    3    3    1    0    0    1    0 |\n",
            "               |    0    5    3    9    0  767    3    1    0    1    0    1    1    1    0    0    2    1    3    1    1    0    0    0    0    0    0 |\n",
            "               |    0    0    0    0    0    3  739    2    0    1    3    0    0    0    0    0   12    2    6    2   30    0    0    0    0    0    0 |\n",
            "               |    1   29   16    3    2    7    4  547    1    1   11    1    0    0    1    5    1  154    1    9    1    0    0    0    2    3    0 |\n",
            "               |    0    5    3    0    4    0    0    0  729    0    0   10    4    4   29    0    0    0    1    0    2    4    0    1    3    1    0 |\n",
            "               |    0    0    0    1    0    1    4    0    2  609    4    0  170    0    0    0    0    1    4    1    0    1    1    0    1    0    0 |\n",
            "               |    0    0    0    0   12    0    2    4    0   34  722    0    4    0    0    0    0    1    0    4   12    2    1    0    1    1    0 |\n",
            "               |    0    4    2    0    0    5    1    0   11    0    0  755    4    0    0    0    0    0    6    0    3    0    0    0    9    0    0 |\n",
            "               |    0    0    0    8    1    3    1    0    7  190    0    0  582    0    0    0    0    0    1    0    0    2    0    0    0    5    0 |\n",
            "               |    0    1    0    0    0    0    0    0    9    0    0    0    0  772   15    0    0    0    1    0    0    0    0    0    1    1    0 |\n",
            "               |    0   17    0    0    5    0    0    0   12    0    0    4    0   15  723    0    0    0    7    0    0    8    2    3    4    0    0 |\n",
            "               |    0    5    0    2   11    4    0    0    0    0    0    0    0    1    2  769    0    3    0    0    0    3    0    0    0    0    0 |\n",
            "               |    0    1    1    0    4    1    8    1    0    1    0    0    0    0    0    0  770    3    5    0    3    0    0    0    0    2    0 |\n",
            "               |    2   53    1    0    2    9    2   47    0    5    0    0    0    0    1    9    4  641    1    0    4    3    0    0    1   15    0 |\n",
            "               |    0   10    0    3    0    3    2    0    2    2    0   10    0    1    0    0    2    2  742    0   12    0    2    0    4    3    0 |\n",
            "               |    0    2    0    0    0    5    6    9    1    0   13    0    0    0    1    1    0    0    1  761    0    0    0    0    0    0    0 |\n",
            "               |    0    1    1    0    1    7    1    0    0    1    1    0    0    0    0    1    0    0    3    0  778    0    1    0    3    1    0 |\n",
            "               |    0    3    0    0    0    0    0    0    2    0    1    0    1    1    1    1    0    2    1    1    0  757   25    1    0    3    0 |\n",
            "               |    1    0    0    0    1    0    0    0    0    0    1    0    1    2    0    0    0    0   12    0    0   34  716    0    3   29    0 |\n",
            "               |    0    1    0    0    2    0    0    0    2    0    0    2    0    8   12    0    0    0    0    0    0    9    2  761    1    0    0 |\n",
            "               |    1    0    0    0    0    0    1    0    3    0    0   23    0    2    1    0    0    0    1    0    2    1    2    0  754    9    0 |\n",
            "               |    0    0    0    0    2    0    1    5    1    0    9    0    1    0    1    0    0    2    4    0    7    1    9    0    9  748    0 |\n",
            "               |  712    3    0    0    0    7    0   23    1   14    1    0    2    0    0    0    0   31    1    0    2    1    0    0    1    1    0 |\n",
            "               -----------------------------------------------------------------------------------------------------------------------------------------\n",
            "\n"
          ]
        },
        {
          "output_type": "stream",
          "name": "stderr",
          "text": [
            "/usr/local/lib/python3.11/dist-packages/sklearn/metrics/_classification.py:1565: UndefinedMetricWarning: Precision is ill-defined and being set to 0.0 in labels with no predicted samples. Use `zero_division` parameter to control this behavior.\n",
            "  _warn_prf(average, modifier, f\"{metric.capitalize()} is\", len(result))\n",
            "/usr/local/lib/python3.11/dist-packages/sklearn/metrics/_classification.py:1565: UndefinedMetricWarning: Recall is ill-defined and being set to 0.0 in labels with no true samples. Use `zero_division` parameter to control this behavior.\n",
            "  _warn_prf(average, modifier, f\"{metric.capitalize()} is\", len(result))\n",
            "/usr/local/lib/python3.11/dist-packages/sklearn/metrics/_classification.py:1565: UndefinedMetricWarning: Precision is ill-defined and being set to 0.0 in labels with no predicted samples. Use `zero_division` parameter to control this behavior.\n",
            "  _warn_prf(average, modifier, f\"{metric.capitalize()} is\", len(result))\n",
            "/usr/local/lib/python3.11/dist-packages/sklearn/metrics/_classification.py:1565: UndefinedMetricWarning: Recall is ill-defined and being set to 0.0 in labels with no true samples. Use `zero_division` parameter to control this behavior.\n",
            "  _warn_prf(average, modifier, f\"{metric.capitalize()} is\", len(result))\n"
          ]
        }
      ]
    }
  ]
}