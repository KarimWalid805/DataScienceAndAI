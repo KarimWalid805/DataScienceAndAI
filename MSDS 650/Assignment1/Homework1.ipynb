{
  "nbformat": 4,
  "nbformat_minor": 0,
  "metadata": {
    "colab": {
      "provenance": []
    },
    "kernelspec": {
      "name": "python3",
      "display_name": "Python 3"
    },
    "language_info": {
      "name": "python"
    }
  },
  "cells": [
    {
      "cell_type": "code",
      "execution_count": null,
      "metadata": {
        "id": "UEgkS-BOxCCD"
      },
      "outputs": [],
      "source": [
        "import math\n",
        "\n",
        "def entropy(p1):\n",
        "  e = 0\n",
        "  if p1 == 1:\n",
        "    e = 0\n",
        "  elif p1 > 0:\n",
        "    e = - (p1 * math.log2(p1) + (1-p1) * math.log2(1-p1))\n",
        "  return e"
      ]
    },
    {
      "cell_type": "code",
      "source": [
        "from google.colab import drive, files\n",
        "import os\n",
        "\n",
        "PROJECT_FOLDER = \"/content/gdrive/MyDrive/Colab Notebooks\"\n",
        "drive.mount('/content/gdrive/')\n",
        "os.chdir(PROJECT_FOLDER)\n",
        "print(\"Current dir: \", os.getcwd())"
      ],
      "metadata": {
        "id": "YXZeiF_wxNX2"
      },
      "execution_count": null,
      "outputs": []
    },
    {
      "cell_type": "code",
      "source": [
        "import pandas as pd\n",
        "import matplotlib.pyplot as plt\n",
        "from sklearn.tree import DecisionTreeClassifier\n",
        "from sklearn.tree import plot_tree\n",
        "from sklearn.preprocessing import OneHotEncoder\n",
        "from sklearn.compose import ColumnTransformer\n",
        "from sklearn.model_selection import GridSearchCV, cross_val_score\n",
        "import numpy as np"
      ],
      "metadata": {
        "id": "lVcdrpJyxVjb"
      },
      "execution_count": null,
      "outputs": []
    },
    {
      "cell_type": "code",
      "source": [
        "df = pd.read_csv(\"eyes.csv\")\n",
        "df.head()"
      ],
      "metadata": {
        "id": "EuOd_oUfxWUA"
      },
      "execution_count": null,
      "outputs": []
    },
    {
      "cell_type": "code",
      "source": [
        "df = pd.get_dummies(df, columns=['Age'],prefix=[\"Age\"], dtype=int)\n",
        "df.head()"
      ],
      "metadata": {
        "id": "o-H9vQxyAx7d"
      },
      "execution_count": null,
      "outputs": []
    },
    {
      "cell_type": "markdown",
      "source": [
        "Exercise B"
      ],
      "metadata": {
        "id": "_Zh72-UIEjNz"
      }
    },
    {
      "cell_type": "code",
      "source": [
        "def eye_attr_entropy_calc(data, attr, subset_param):\n",
        "  subset = data[data[attr] == subset_param]\n",
        "  s = subset.shape[0]\n",
        "  s1 = subset[subset['Class'] == 'A'].shape[0]\n",
        "  s2 = subset[subset['Class'] == 'B'].shape[0]\n",
        "  y1 = s1 / s\n",
        "  y2 = s2 / s\n",
        "  if (s1 == 0 or s2 == 0):\n",
        "    return 0\n",
        "  else:\n",
        "      return - (y1 * np.log2(y1) + y2 * np.log2(y2))\n"
      ],
      "metadata": {
        "id": "zz6Hn0uUeCXa"
      },
      "execution_count": null,
      "outputs": []
    },
    {
      "cell_type": "code",
      "source": [
        "eye_attr_entropy_calc(df, \"Age_Middle-aged\", 1)\n",
        "\n",
        "\n"
      ],
      "metadata": {
        "id": "O4hIDKuUeS5T"
      },
      "execution_count": null,
      "outputs": []
    },
    {
      "cell_type": "code",
      "source": [
        "eye_attr_entropy_calc(df, \"Vision\", \"Myopia\")"
      ],
      "metadata": {
        "id": "nlQQVoV7gVrV"
      },
      "execution_count": null,
      "outputs": []
    },
    {
      "cell_type": "code",
      "source": [
        "eye_attr_entropy_calc(df, \"Vision\", \"Farsightedness\")"
      ],
      "metadata": {
        "id": "RJXCmYAXgs0F"
      },
      "execution_count": null,
      "outputs": []
    },
    {
      "cell_type": "code",
      "source": [
        "eye_attr_entropy_calc(df, \"Astigmatism\", \"Yes\")"
      ],
      "metadata": {
        "id": "KtNthedwgVfN"
      },
      "execution_count": null,
      "outputs": []
    },
    {
      "cell_type": "code",
      "source": [
        "eye_attr_entropy_calc(df, \"UseOfGlasses\", \"Rare\")"
      ],
      "metadata": {
        "id": "LQCr1IDhgZ2t"
      },
      "execution_count": null,
      "outputs": []
    },
    {
      "cell_type": "markdown",
      "source": [
        "Exercise C"
      ],
      "metadata": {
        "id": "LJ9k_mIoEpSW"
      }
    },
    {
      "cell_type": "code",
      "source": [
        "total_instances = df.shape[0]\n",
        "print(total_instances)\n",
        "class_a_instances = df[df['Class'] == 'A'].shape[0]\n",
        "class_b_instances = df[df['Class'] == 'B'].shape[0]\n",
        "\n",
        "p1 = class_a_instances / total_instances  # Proportion of Class A\n",
        "p2 = class_b_instances / total_instances  # Proportion of Class B\n",
        "print(p1)\n",
        "print(p2)\n",
        "initial_entropy = entropy(p1)\n",
        "\n",
        "print(f\"Initial Entropy: {initial_entropy}\")\n"
      ],
      "metadata": {
        "id": "QgreQmx2vb9m"
      },
      "execution_count": null,
      "outputs": []
    },
    {
      "cell_type": "code",
      "source": [
        "subset = df[df['Astigmatism'] == 'Yes']\n",
        "s = subset.shape[0]\n",
        "s1 = subset[subset['Class'] == 'A'].shape[0]\n",
        "s2 = subset[subset['Class'] == 'B'].shape[0]\n",
        "y1 = s1 / s\n",
        "y2 = s2 / s\n",
        "print(y1)\n",
        "print(y2)\n",
        "\n",
        "Information_Gain_Astigmatism = initial_entropy - ( y2 * eye_attr_entropy_calc(df, \"Astigmatism\", \"Yes\") + y1 * eye_attr_entropy_calc(df, \"Astigmatism\", \"No\"))\n",
        "print(f\"Information Gain Astigmatism: {Information_Gain_Astigmatism}\")"
      ],
      "metadata": {
        "id": "zuCfhiFC8azO"
      },
      "execution_count": null,
      "outputs": []
    },
    {
      "cell_type": "code",
      "source": [
        "subset = df[df['Age_Middle-aged'] == 1]\n",
        "s = subset.shape[0]\n",
        "s1 = subset[subset['Class'] == 'A'].shape[0]\n",
        "s2 = subset[subset['Class'] == 'B'].shape[0]\n",
        "y1 = s1 / s\n",
        "y2 = s2 / s\n",
        "\n",
        "print(y1)\n",
        "print(y2)\n",
        "\n",
        "Information_Gain_Age = initial_entropy - ( y2 * eye_attr_entropy_calc(df, \"Age_Middle-aged\", 1) + y1 * eye_attr_entropy_calc(df, \"Age_Young\", 1))\n",
        "print(f\"Information Gain Age: {Information_Gain_Age}\")"
      ],
      "metadata": {
        "id": "8nRiSp7Y0ZKL"
      },
      "execution_count": null,
      "outputs": []
    },
    {
      "cell_type": "code",
      "source": [
        "subset = df[df['Vision'] == 'Myopia']\n",
        "s = subset.shape[0]\n",
        "s1 = subset[subset['Class'] == 'A'].shape[0]\n",
        "s2 = subset[subset['Class'] == 'B'].shape[0]\n",
        "y1 = s1 / s\n",
        "y2 = s2 / s\n",
        "\n",
        "\n",
        "Information_Gain_Vision = initial_entropy - ( y2 * eye_attr_entropy_calc(df, \"Vision\", \"Myopia\") + y1 * eye_attr_entropy_calc(df, \"Vision\", \"Farsightedness\"))\n",
        "print(f\"Information Gain Vision: {Information_Gain_Vision}\")"
      ],
      "metadata": {
        "id": "uo0LXlkq8KRV"
      },
      "execution_count": null,
      "outputs": []
    },
    {
      "cell_type": "code",
      "source": [
        "subset = df[df['UseOfGlasses'] == 'Rare']\n",
        "s = subset.shape[0]\n",
        "s1 = subset[subset['Class'] == 'A'].shape[0]\n",
        "s2 = subset[subset['Class'] == 'B'].shape[0]\n",
        "y1 = s1 / s\n",
        "y2 = s2 / s\n",
        "\n",
        "\n",
        "Information_Gain_UseOfGlasses = initial_entropy - ( y2 * eye_attr_entropy_calc(df, \"UseOfGlasses\", \"Rare\") + y1 * eye_attr_entropy_calc(df, \"UseOfGlasses\", \"Often\"))\n",
        "print(f\"Information Gain Use Of Glasses: {Information_Gain_UseOfGlasses}\")"
      ],
      "metadata": {
        "id": "so5pnKv0qiCc"
      },
      "execution_count": null,
      "outputs": []
    },
    {
      "cell_type": "code",
      "source": [],
      "metadata": {
        "id": "NBWjI6Ssq9lY"
      },
      "execution_count": null,
      "outputs": []
    },
    {
      "cell_type": "code",
      "source": [
        "df = pd.get_dummies(df, drop_first = True, dtype=int)\n"
      ],
      "metadata": {
        "id": "sjYx5l5EfbPZ"
      },
      "execution_count": null,
      "outputs": []
    },
    {
      "cell_type": "code",
      "source": [
        "# Split the dataset into features (X) and target (y)\n",
        "X = df.drop('Class_B', axis=1)\n",
        "y = df['Class_B']"
      ],
      "metadata": {
        "id": "eFYEP7TOfg9W"
      },
      "execution_count": null,
      "outputs": []
    },
    {
      "cell_type": "code",
      "source": [
        "X"
      ],
      "metadata": {
        "id": "raCoxhQI0rg8"
      },
      "execution_count": null,
      "outputs": []
    },
    {
      "cell_type": "code",
      "source": [
        "y"
      ],
      "metadata": {
        "id": "3ronNY1r0tX2"
      },
      "execution_count": null,
      "outputs": []
    },
    {
      "cell_type": "markdown",
      "source": [
        "Exercise D"
      ],
      "metadata": {
        "id": "G1ApyAtKmDft"
      }
    },
    {
      "cell_type": "code",
      "source": [
        "ClassAorB_tree = DecisionTreeClassifier(random_state=2, max_depth = 5, criterion = \"entropy\")\n",
        "ClassAorB_tree.fit(X, y)"
      ],
      "metadata": {
        "id": "HYRgp07SZhC0"
      },
      "execution_count": null,
      "outputs": []
    },
    {
      "cell_type": "code",
      "source": [
        "# Plot the decision tree\n",
        "plt.figure(figsize=(8, 8))\n",
        "plot_tree(ClassAorB_tree, feature_names=X.columns, class_names=['ClassA', 'ClassB'], filled=True, rounded=True)\n",
        "plt.show()"
      ],
      "metadata": {
        "id": "-ZId5w7KZyQt"
      },
      "execution_count": null,
      "outputs": []
    },
    {
      "cell_type": "markdown",
      "source": [
        "Exercise E"
      ],
      "metadata": {
        "id": "Xvq8lTgxmHDV"
      }
    },
    {
      "cell_type": "code",
      "source": [
        "dt_model = DecisionTreeClassifier(random_state=42)\n",
        "param_grid = {'max_depth': [2, 3, 4, 5, 6, 7]}\n",
        "\n",
        "grid_search = GridSearchCV(dt_model, param_grid, cv=10, scoring='accuracy')\n",
        "grid_search.fit(X, y)\n",
        "\n",
        "# Get best hyperparameter and accuracy\n",
        "best_depth = grid_search.best_params_['max_depth']\n",
        "best_accuracy = grid_search.best_score_\n",
        "\n",
        "# Print results\n",
        "print(f\"Best max_depth: {best_depth}\")\n",
        "print(f\"10-Fold Cross-Validation Accuracy: {best_accuracy:.3f}\")"
      ],
      "metadata": {
        "id": "4RQQhxSca41_"
      },
      "execution_count": null,
      "outputs": []
    }
  ]
}